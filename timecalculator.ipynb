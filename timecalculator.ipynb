{
 "cells": [
  {
   "cell_type": "markdown",
   "metadata": {},
   "source": [
    "Time Calculator"
   ]
  },
  {
   "cell_type": "code",
   "execution_count": 1,
   "metadata": {},
   "outputs": [
    {
     "ename": "SyntaxError",
     "evalue": "invalid character in identifier (2820096332.py, line 6)",
     "output_type": "error",
     "traceback": [
      "\u001b[0;36m  Cell \u001b[0;32mIn [1], line 6\u001b[0;36m\u001b[0m\n\u001b[0;31m    \"Thursday\", \"Friday\", \"Saturday\", \"Sunday\"]\u001b[0m\n\u001b[0m    ^\u001b[0m\n\u001b[0;31mSyntaxError\u001b[0m\u001b[0;31m:\u001b[0m invalid character in identifier\n"
     ]
    }
   ],
   "source": [
    "def add_time(start, duration, day=\"\"):\n",
    "    \n",
    "    dict_days = {\"monday\": 0, \"tuesday\": 1, \"wednesday\": 2, \"thursday\": 3, \n",
    "    \"friday\": 4, \"saturday\": 5, \"sunday\": 6}\n",
    "    week_days = [\"Monday\", \"Tuesday\", \"Wednesday\",\n",
    "        \"Thursday\", \"Friday\", \"Saturday\", \"Sunday\"]\n",
    "\n",
    "    start_split = start.split(':')\n",
    "\n",
    "    hour = int(start_split[0])\n",
    "    minutes = int(start_split[1][0:3])*0.01\n",
    "    int_stime = hour + minutes\n",
    "\n",
    "    duration_split = duration.split(':')\n",
    "    int(duration.split(':')[0]) + int(duration.split(':')[1])*0.01\n",
    "\n",
    "    if (split[1][-2:] == \"PM\") and ((int_stime+int_dtime)>12):\n",
    "        new_time = str(int_dtime + int_stime).replace(\".\", \":\")\n",
    "        print(\"switch to AM\")\n",
    "        print(new_time)\n",
    "    elif (split[1][-2:] == \"PM\") and ((int_stime+int_dtime)>12):\n",
    "        new_time = str(int_dtime + int_stime).replace(\".\", \":\")\n",
    "        print(\"switch to PM\")\n",
    "        print(new_time)\n",
    "    else:\n",
    "        new_time = str(int_dtime + int_stime).replace(\".\", \":\")\n",
    "        print(\"dont switch PM/AM\")\n",
    "        print(new_time)\n",
    "\n",
    "\n",
    "\n",
    "\n",
    "    #return new_time"
   ]
  },
  {
   "cell_type": "code",
   "execution_count": null,
   "metadata": {},
   "outputs": [
    {
     "name": "stdout",
     "output_type": "stream",
     "text": [
      "switch to AM\n",
      "15:1\n"
     ]
    }
   ],
   "source": [
    "add_time(\"12:00 PM\", \"3:10\")"
   ]
  },
  {
   "cell_type": "code",
   "execution_count": null,
   "metadata": {},
   "outputs": [],
   "source": [
    "x = \"3:22 PM\""
   ]
  },
  {
   "cell_type": "code",
   "execution_count": null,
   "metadata": {},
   "outputs": [
    {
     "data": {
      "text/plain": [
       "3.22"
      ]
     },
     "execution_count": 61,
     "metadata": {},
     "output_type": "execute_result"
    }
   ],
   "source": [
    "int(x.split(':')[0])+int(x.split(':')[1][0:3])*0.01"
   ]
  },
  {
   "cell_type": "code",
   "execution_count": null,
   "metadata": {},
   "outputs": [
    {
     "data": {
      "text/plain": [
       "True"
      ]
     },
     "execution_count": 53,
     "metadata": {},
     "output_type": "execute_result"
    }
   ],
   "source": [
    "x.split(':')[1][-2:] == 'PM'"
   ]
  },
  {
   "cell_type": "code",
   "execution_count": null,
   "metadata": {},
   "outputs": [
    {
     "data": {
      "text/plain": [
       "['22', 'PM']"
      ]
     },
     "execution_count": 79,
     "metadata": {},
     "output_type": "execute_result"
    }
   ],
   "source": [
    "x.split(':')[1].split(\" \")"
   ]
  },
  {
   "cell_type": "code",
   "execution_count": null,
   "metadata": {},
   "outputs": [],
   "source": []
  }
 ],
 "metadata": {
  "kernelspec": {
   "display_name": "Python 3.8.10 64-bit",
   "language": "python",
   "name": "python3"
  },
  "language_info": {
   "codemirror_mode": {
    "name": "ipython",
    "version": 3
   },
   "file_extension": ".py",
   "mimetype": "text/x-python",
   "name": "python",
   "nbconvert_exporter": "python",
   "pygments_lexer": "ipython3",
   "version": "3.8.10"
  },
  "orig_nbformat": 4,
  "vscode": {
   "interpreter": {
    "hash": "916dbcbb3f70747c44a77c7bcd40155683ae19c65e1c03b4aa3499c5328201f1"
   }
  }
 },
 "nbformat": 4,
 "nbformat_minor": 2
}
